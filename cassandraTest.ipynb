{
 "cells": [
  {
   "cell_type": "markdown",
   "metadata": {},
   "source": [
    "Conectar Python a Cassandra en Docker"
   ]
  },
  {
   "cell_type": "code",
   "execution_count": 1,
   "metadata": {},
   "outputs": [
    {
     "data": {
      "text/plain": [
       "<cassandra.cluster.ResultSet at 0x7fe2c0540590>"
      ]
     },
     "execution_count": 1,
     "metadata": {},
     "output_type": "execute_result"
    }
   ],
   "source": [
    "from cassandra.cluster import Cluster\n",
    "\n",
    "cluster = Cluster(['localhost'], port=9042)\n",
    "\n",
    "session = cluster.connect()\n",
    "\n",
    "session.execute(\"\"\"\n",
    "CREATE KEYSPACE IF NOT EXISTS test_keyspace \n",
    "WITH REPLICATION = { 'class' : 'SimpleStrategy', 'replication_factor' : 1 }\n",
    "\"\"\")\n",
    "\n",
    "session.execute(\"USE test_keyspace\")\n",
    "\n",
    "session.execute(\"\"\"\n",
    "CREATE TABLE IF NOT EXISTS dataset_falso (\n",
    "    nombre text,\n",
    "    direccion text,\n",
    "    correo text PRIMARY KEY,\n",
    "    telefono text,\n",
    "    fecha_nacimiento date,\n",
    "    empresa text,\n",
    "    numero_tarjeta text,\n",
    "    fecha_vencimiento text,\n",
    "    codigo_postal text\n",
    ")\n",
    "\"\"\")\n"
   ]
  },
  {
   "cell_type": "markdown",
   "metadata": {},
   "source": [
    "Carga de Datos en la Tabla"
   ]
  },
  {
   "cell_type": "code",
   "execution_count": 2,
   "metadata": {},
   "outputs": [],
   "source": [
    "import csv\n",
    "\n",
    "with open('dataset_falso.csv', 'r', encoding='utf-8') as csvfile:\n",
    "    reader = csv.DictReader(csvfile)\n",
    "    for row in reader:\n",
    "        session.execute(\"\"\"\n",
    "        INSERT INTO dataset_falso (nombre, direccion, correo, telefono, fecha_nacimiento, empresa, numero_tarjeta, fecha_vencimiento, codigo_postal)\n",
    "        VALUES (%s, %s, %s, %s, %s, %s, %s, %s, %s)\n",
    "        \"\"\", (\n",
    "            row['Nombre'],\n",
    "            row['Dirección'],\n",
    "            row['Correo'],\n",
    "            row['Teléfono'],\n",
    "            row['Fecha de nacimiento'],\n",
    "            row['Empresa'],\n",
    "            row['Número de tarjeta'],\n",
    "            row['Fecha de vencimiento'],\n",
    "            row['Código postal']\n",
    "        ))"
   ]
  },
  {
   "cell_type": "markdown",
   "metadata": {},
   "source": [
    "Verificación de los Datos Cargados"
   ]
  },
  {
   "cell_type": "code",
   "execution_count": 6,
   "metadata": {},
   "outputs": [
    {
     "name": "stdout",
     "output_type": "stream",
     "text": [
      "Row(correo='zbonilla@example.net', codigo_postal='41159', direccion='Alameda Dimas Esteve 83\\nToledo, 39639', empresa='Rosalina Gaya Bolaños S.L.N.E', fecha_nacimiento=Date(-10946), fecha_vencimiento='11/29', nombre='Bruno del Bou', numero_tarjeta='4910858994417154', telefono='+34948567661')\n",
      "Row(correo='emmaboix@example.org', codigo_postal='31890', direccion='Vial de Calixto Barreda 54\\nBaleares, 31716', empresa='Hermanos Moliner S.A.', fecha_nacimiento=Date(-2054), fecha_vencimiento='03/30', nombre='Abril Lago Valle', numero_tarjeta='4712966667600830', telefono='+34 876 028 439')\n",
      "Row(correo='inmaculada49@example.com', codigo_postal='42278', direccion='Cuesta Sandra Pera 218 Piso 1 \\nCuenca, 30446', empresa='Distribuciones Españolas S.C.P', fecha_nacimiento=Date(8410), fecha_vencimiento='08/30', nombre='Leandro Araujo Peiró', numero_tarjeta='213117298068656', telefono='+34825438889')\n",
      "Row(correo='montanajose-antonio@example.com', codigo_postal='07545', direccion='Camino de Rico Pera 4 Piso 0 \\nSalamanca, 15507', empresa='Hermanos Fonseca S.C.P', fecha_nacimiento=Date(-2124), fecha_vencimiento='11/31', nombre='Teresa Balaguer Cabello', numero_tarjeta='4080869782922168', telefono='+34 979008860')\n",
      "Row(correo='anabelvalencia@example.com', codigo_postal='33930', direccion='Via de Lola Mas 646 Piso 4 \\nCantabria, 28554', empresa='Huertas y asociados S.Coop.', fecha_nacimiento=Date(6854), fecha_vencimiento='08/34', nombre='Alba Mar Flor Rivas', numero_tarjeta='573315410064', telefono='+34 977 34 54 01')\n",
      "Row(correo='emari@example.org', codigo_postal='20663', direccion='Cañada de Marcia Nicolás 35\\nMálaga, 42499', empresa='Banca Privada KH S.L.L.', fecha_nacimiento=Date(13185), fecha_vencimiento='08/32', nombre='Clotilde del Cazorla', numero_tarjeta='38547812914287', telefono='+34 964647154')\n",
      "Row(correo='natanael16@example.net', codigo_postal='17447', direccion='Acceso de Lucía Coloma 31\\nCantabria, 12370', empresa='Manufacturas CX S.A.', fecha_nacimiento=Date(-10475), fecha_vencimiento='01/26', nombre='Vera Bayona Hidalgo', numero_tarjeta='4110809969309', telefono='+34 881 799 371')\n",
      "Row(correo='primitivomalo@example.org', codigo_postal='12574', direccion='Cañada de Pastor Calleja 383\\nCeuta, 08092', empresa='Despacho IY S.Com.', fecha_nacimiento=Date(1452), fecha_vencimiento='02/34', nombre='Amador Tapia Valverde', numero_tarjeta='3508588770435811', telefono='+34921047735')\n",
      "Row(correo='xpelaez@example.com', codigo_postal='01551', direccion='Urbanización Heraclio Almagro 323\\nSevilla, 08496', empresa='Suministros Española S.L.', fecha_nacimiento=Date(3094), fecha_vencimiento='09/30', nombre='Marco Donoso Hierro', numero_tarjeta='374679970246293', telefono='+34947 87 83 39')\n",
      "Row(correo='angelnoriega@example.net', codigo_postal='32230', direccion='Glorieta de Quirino Saez 74 Puerta 8 \\nCáceres, 14087', empresa='Comercial Suarez y asociados S.L.', fecha_nacimiento=Date(-6888), fecha_vencimiento='08/33', nombre='Adelia de Benet', numero_tarjeta='5138862912799084', telefono='+34803 965 610')\n"
     ]
    }
   ],
   "source": [
    "rows = session.execute(\"SELECT * FROM dataset_falso LIMIT 10\")\n",
    "for row in rows:\n",
    "    print(row)"
   ]
  },
  {
   "cell_type": "markdown",
   "metadata": {},
   "source": [
    "Consultas de ejemplo"
   ]
  },
  {
   "cell_type": "code",
   "execution_count": null,
   "metadata": {},
   "outputs": [
    {
     "name": "stdout",
     "output_type": "stream",
     "text": [
      "Consulta: Todas las filas\n",
      "Row(correo='zbonilla@example.net', codigo_postal='41159', direccion='Alameda Dimas Esteve 83\\nToledo, 39639', empresa='Rosalina Gaya Bolaños S.L.N.E', fecha_nacimiento=Date(-10946), fecha_vencimiento='11/29', nombre='Bruno del Bou', numero_tarjeta='4910858994417154', telefono='+34948567661')\n",
      "Row(correo='emmaboix@example.org', codigo_postal='31890', direccion='Vial de Calixto Barreda 54\\nBaleares, 31716', empresa='Hermanos Moliner S.A.', fecha_nacimiento=Date(-2054), fecha_vencimiento='03/30', nombre='Abril Lago Valle', numero_tarjeta='4712966667600830', telefono='+34 876 028 439')\n",
      "Row(correo='inmaculada49@example.com', codigo_postal='42278', direccion='Cuesta Sandra Pera 218 Piso 1 \\nCuenca, 30446', empresa='Distribuciones Españolas S.C.P', fecha_nacimiento=Date(8410), fecha_vencimiento='08/30', nombre='Leandro Araujo Peiró', numero_tarjeta='213117298068656', telefono='+34825438889')\n",
      "Row(correo='montanajose-antonio@example.com', codigo_postal='07545', direccion='Camino de Rico Pera 4 Piso 0 \\nSalamanca, 15507', empresa='Hermanos Fonseca S.C.P', fecha_nacimiento=Date(-2124), fecha_vencimiento='11/31', nombre='Teresa Balaguer Cabello', numero_tarjeta='4080869782922168', telefono='+34 979008860')\n",
      "Row(correo='anabelvalencia@example.com', codigo_postal='33930', direccion='Via de Lola Mas 646 Piso 4 \\nCantabria, 28554', empresa='Huertas y asociados S.Coop.', fecha_nacimiento=Date(6854), fecha_vencimiento='08/34', nombre='Alba Mar Flor Rivas', numero_tarjeta='573315410064', telefono='+34 977 34 54 01')\n",
      "\n",
      "Consulta: Fila específica por correo\n",
      "\n",
      "Consulta: Nombres y correos de usuarios mayores de 50 años\n",
      "Row(nombre='Bruno del Bou', correo='zbonilla@example.net')\n",
      "Row(nombre='Abril Lago Valle', correo='emmaboix@example.org')\n",
      "Row(nombre='Teresa Balaguer Cabello', correo='montanajose-antonio@example.com')\n",
      "Row(nombre='Vera Bayona Hidalgo', correo='natanael16@example.net')\n",
      "Row(nombre='Adelia de Benet', correo='angelnoriega@example.net')\n",
      "Row(nombre='Víctor Angulo Murillo', correo='felisa47@example.org')\n",
      "Row(nombre='Soraya Núñez Lamas', correo='sdiaz@example.com')\n",
      "Row(nombre='Priscila de Mesa', correo='edgardo49@example.net')\n",
      "Row(nombre='Jennifer Carrillo', correo='francisco-javiernebot@example.net')\n",
      "Row(nombre='Buenaventura Huerta-Jódar', correo='hfolch@example.org')\n",
      "Row(nombre='Alfonso Mendez Pastor', correo='jafet44@example.net')\n",
      "Row(nombre='Ruben del Ramírez', correo='nsobrino@example.com')\n",
      "Row(nombre='Buenaventura de Bonet', correo='luchopalau@example.org')\n",
      "Row(nombre='Juan Luis Rocha-Galán', correo='iglesiaharoldo@example.net')\n",
      "Row(nombre='Anita Hortensia Yáñez Molina', correo='cvall@example.org')\n",
      "Row(nombre='Abril Portero Lara', correo='imacias@example.org')\n",
      "Row(nombre='Francisca Solé Ángel', correo='nadiapardo@example.net')\n",
      "Row(nombre='Camila Barberá', correo='cvarela@example.net')\n",
      "Row(nombre='Renato Guzmán Delgado', correo='anastasia01@example.com')\n",
      "Row(nombre='Verónica del Cortes', correo='lucio19@example.net')\n",
      "Row(nombre='Macario Grau Giménez', correo='florina39@example.com')\n",
      "Row(nombre='Casemiro Garrido-Navarro', correo='cristian15@example.net')\n",
      "Row(nombre='Calixta del Luján', correo='canetgraciano@example.org')\n",
      "Row(nombre='José Luis Camino Martín', correo='romulo78@example.com')\n",
      "Row(nombre='Toni de Elorza', correo='wprat@example.org')\n",
      "Row(nombre='María Fernanda Flor', correo='ibenavent@example.com')\n",
      "Row(nombre='Tito Canals Coronado', correo='guadalupe51@example.net')\n",
      "Row(nombre='Julieta Teruel García', correo='nhernando@example.net')\n",
      "Row(nombre='Diana Benet Salazar', correo='crescencia53@example.org')\n",
      "Row(nombre='Hector Castro-Marín', correo='dvives@example.org')\n",
      "Row(nombre='Daniel de Neira', correo='andradeceferino@example.org')\n",
      "Row(nombre='Celia Baños-Arroyo', correo='ramisprudencio@example.net')\n",
      "Row(nombre='Nazario Marí Calleja', correo='tenoriofrancisco@example.net')\n",
      "Row(nombre='Arturo Roda Lloret', correo='tbarrios@example.org')\n",
      "Row(nombre='Andrés Felipe Barral Granados', correo='valencianotamara@example.net')\n",
      "Row(nombre='Leonel Alberdi-Carbó', correo='domingofont@example.org')\n",
      "Row(nombre='Pánfilo Segovia Casanovas', correo='victoriano05@example.net')\n",
      "Row(nombre='Eugenio Royo Cruz', correo='casandra95@example.com')\n",
      "Row(nombre='Toribio de Pinto', correo='iarana@example.org')\n",
      "Row(nombre='Asdrubal Caballero', correo='matiasmontana@example.net')\n",
      "Row(nombre='Nazaret Perea Ríos', correo='valverdefelipa@example.org')\n",
      "Row(nombre='Constanza del Barba', correo='pmiralles@example.com')\n",
      "Row(nombre='Clemente de Sanabria', correo='cletoayuso@example.com')\n",
      "Row(nombre='Eloísa Rocha Torrecilla', correo='rosaeloy@example.com')\n",
      "Row(nombre='Aitana Escobar Márquez', correo='aristides41@example.com')\n",
      "Row(nombre='Glauco Cuéllar Abascal', correo='sandovaladelaida@example.net')\n",
      "Row(nombre='César Guerrero Vazquez', correo='ysabater@example.com')\n",
      "Row(nombre='Ruy Roca Bartolomé', correo='tatiana42@example.net')\n",
      "Row(nombre='Ani Marcos Pardo', correo='ollobet@example.org')\n",
      "Row(nombre='Paco Rocamora Nieto', correo='iescribano@example.com')\n",
      "Row(nombre='Rosario Hurtado Lasa', correo='vjerez@example.com')\n",
      "Row(nombre='Clementina Paca Novoa Frutos', correo='amir@example.org')\n",
      "Row(nombre='Anita Estevez', correo='paola99@example.org')\n",
      "Row(nombre='Héctor Español Lopez', correo='pripoll@example.org')\n",
      "\n",
      "Consulta: Contar número total de registros\n",
      "Total de registros: 100\n",
      "\n",
      "Consulta: Empresas únicas\n"
     ]
    },
    {
     "ename": "InvalidRequest",
     "evalue": "Error from server: code=2200 [Invalid query] message=\"SELECT DISTINCT queries must only request partition key columns and/or static columns (not empresa)\"",
     "output_type": "error",
     "traceback": [
      "\u001b[0;31m---------------------------------------------------------------------------\u001b[0m",
      "\u001b[0;31mInvalidRequest\u001b[0m                            Traceback (most recent call last)",
      "Cell \u001b[0;32mIn[10], line 28\u001b[0m\n\u001b[1;32m     26\u001b[0m \u001b[38;5;66;03m# 5. Consulta de empresas únicas en la tabla\u001b[39;00m\n\u001b[1;32m     27\u001b[0m \u001b[38;5;28mprint\u001b[39m(\u001b[38;5;124m\"\u001b[39m\u001b[38;5;130;01m\\n\u001b[39;00m\u001b[38;5;124mConsulta: Empresas únicas\u001b[39m\u001b[38;5;124m\"\u001b[39m)\n\u001b[0;32m---> 28\u001b[0m rows \u001b[38;5;241m=\u001b[39m \u001b[43msession\u001b[49m\u001b[38;5;241;43m.\u001b[39;49m\u001b[43mexecute\u001b[49m\u001b[43m(\u001b[49m\u001b[38;5;124;43m\"\u001b[39;49m\u001b[38;5;124;43mSELECT DISTINCT empresa FROM dataset_falso\u001b[39;49m\u001b[38;5;124;43m\"\u001b[39;49m\u001b[43m)\u001b[49m\n\u001b[1;32m     29\u001b[0m \u001b[38;5;28;01mfor\u001b[39;00m row \u001b[38;5;129;01min\u001b[39;00m rows:\n\u001b[1;32m     30\u001b[0m     \u001b[38;5;28mprint\u001b[39m(row\u001b[38;5;241m.\u001b[39mempresa)\n",
      "File \u001b[0;32m~/miniconda3/envs/cassandrasql/lib/python3.12/site-packages/cassandra/cluster.py:2677\u001b[0m, in \u001b[0;36mcassandra.cluster.Session.execute\u001b[0;34m()\u001b[0m\n",
      "File \u001b[0;32m~/miniconda3/envs/cassandrasql/lib/python3.12/site-packages/cassandra/cluster.py:4956\u001b[0m, in \u001b[0;36mcassandra.cluster.ResponseFuture.result\u001b[0;34m()\u001b[0m\n",
      "\u001b[0;31mInvalidRequest\u001b[0m: Error from server: code=2200 [Invalid query] message=\"SELECT DISTINCT queries must only request partition key columns and/or static columns (not empresa)\""
     ]
    }
   ],
   "source": [
    "\n",
    "# 1. Consultar todas las filas de la tabla\n",
    "print(\"Consulta: Todas las filas\")\n",
    "rows = session.execute(\"SELECT * FROM dataset_falso LIMIT 5\")\n",
    "for row in rows:\n",
    "    print(row)\n",
    "\n",
    "# 2. Consultar una fila específica por el correo (clave primaria)\n",
    "correo = 'ejemplo@correo.com'\n",
    "print(\"\\nConsulta: Fila específica por correo\")\n",
    "rows = session.execute(\"SELECT * FROM dataset_falso WHERE correo = %s\", (correo,))\n",
    "for row in rows:\n",
    "    print(row)\n",
    "\n",
    "# 3. Consultar los nombres y correos de los usuarios mayores de 50 años\n",
    "print(\"\\nConsulta: Nombres y correos de usuarios mayores de 50 años\")\n",
    "rows = session.execute(\"SELECT nombre, correo FROM dataset_falso WHERE fecha_nacimiento < '1973-01-01' ALLOW FILTERING\")\n",
    "for row in rows:\n",
    "    print(row)\n",
    "\n",
    "# 4. Contar el número total de registros en la tabla\n",
    "print(\"\\nConsulta: Contar número total de registros\")\n",
    "rows = session.execute(\"SELECT COUNT(*) FROM dataset_falso\")\n",
    "for row in rows:\n",
    "    print(f\"Total de registros: {row[0]}\")\n",
    "\n",
    "# 5. Consulta de empresas únicas en la tabla\n",
    "print(\"\\nConsulta: Empresas únicas\")\n",
    "rows = session.execute(\"SELECT empresa FROM dataset_falso GROUP BY empresa\")\n",
    "for row in rows:\n",
    "    print(row.empresa)\n",
    "\n",
    "# Cerrar la conexión\n",
    "cluster.shutdown()"
   ]
  }
 ],
 "metadata": {
  "kernelspec": {
   "display_name": "cassandrasql",
   "language": "python",
   "name": "python3"
  },
  "language_info": {
   "codemirror_mode": {
    "name": "ipython",
    "version": 3
   },
   "file_extension": ".py",
   "mimetype": "text/x-python",
   "name": "python",
   "nbconvert_exporter": "python",
   "pygments_lexer": "ipython3",
   "version": "3.12.7"
  }
 },
 "nbformat": 4,
 "nbformat_minor": 2
}
