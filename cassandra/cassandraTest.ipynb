{
 "cells": [
  {
   "cell_type": "markdown",
   "metadata": {},
   "source": [
    "Conectar Python a Cassandra en Docker"
   ]
  },
  {
   "cell_type": "code",
   "execution_count": 36,
   "metadata": {},
   "outputs": [
    {
     "data": {
      "text/plain": [
       "<cassandra.cluster.ResultSet at 0x7f316c701220>"
      ]
     },
     "execution_count": 36,
     "metadata": {},
     "output_type": "execute_result"
    }
   ],
   "source": [
    "from cassandra.cluster import Cluster\n",
    "import time\n",
    "import pandas as pd\n",
    "\n",
    "cluster = Cluster(['localhost'], port=9042)\n",
    "\n",
    "session = cluster.connect()\n",
    "\n",
    "session.execute(\"\"\"\n",
    "CREATE KEYSPACE IF NOT EXISTS test_keyspace \n",
    "WITH REPLICATION = { 'class' : 'SimpleStrategy', 'replication_factor' : 1 }\n",
    "\"\"\")\n",
    "\n",
    "session.execute(\"USE test_keyspace\")\n",
    "\n",
    "session.execute(\"\"\"\n",
    "CREATE TABLE IF NOT EXISTS contactos (\n",
    "    nombre text,\n",
    "    direccion text,\n",
    "    correo text PRIMARY KEY,\n",
    "    telefono text,\n",
    "    fecha_nacimiento date,\n",
    "    empresa text,\n",
    "    numero_tarjeta text,\n",
    "    fecha_vencimiento text,\n",
    "    codigo_postal text\n",
    ")\n",
    "\"\"\")"
   ]
  },
  {
   "cell_type": "markdown",
   "metadata": {},
   "source": [
    "Carga de Datos en la Tabla"
   ]
  },
  {
   "cell_type": "code",
   "execution_count": 39,
   "metadata": {},
   "outputs": [],
   "source": [
    "import csv\n",
    "\n",
    "with open('../dataset_falso.csv', 'r', encoding='utf-8') as csvfile:\n",
    "    reader = csv.DictReader(csvfile)\n",
    "    for row in reader:\n",
    "        session.execute(\"\"\"\n",
    "        INSERT INTO contactos (nombre, direccion, correo, telefono, fecha_nacimiento, empresa, numero_tarjeta, fecha_vencimiento, codigo_postal)\n",
    "        VALUES (%s, %s, %s, %s, %s, %s, %s, %s, %s)\n",
    "        \"\"\", (\n",
    "            row['Nombre'],\n",
    "            row['Dirección'],\n",
    "            row['Correo'],\n",
    "            row['Teléfono'],\n",
    "            row['Fecha de nacimiento'],\n",
    "            row['Empresa'],\n",
    "            row['Número de tarjeta'],\n",
    "            row['Fecha de vencimiento'],\n",
    "            row['Código postal']\n",
    "        ))"
   ]
  },
  {
   "cell_type": "markdown",
   "metadata": {},
   "source": [
    "Verificación de los Datos Cargados"
   ]
  },
  {
   "cell_type": "code",
   "execution_count": 40,
   "metadata": {},
   "outputs": [
    {
     "name": "stdout",
     "output_type": "stream",
     "text": [
      "Row(correo='mgonzalez@example.com', codigo_postal='33787', direccion='C. Julieta Fonseca 66\\nToledo, 30688', empresa='Promociones Internacionales S.L.U.', fecha_nacimiento=Date(-12424), fecha_vencimiento='05/26', nombre='Joaquín de Sáez', numero_tarjeta='502080583664', telefono='+34887 094 173')\n",
      "Row(correo='ibatlle@example.com', codigo_postal='09203', direccion='Paseo de Carmelo Pablo 29\\nCáceres, 06274', empresa='Compañía Canet & Asociados S.L.', fecha_nacimiento=Date(7563), fecha_vencimiento='07/30', nombre='Macario Martínez Folch', numero_tarjeta='4384066201407990869', telefono='+34874 833 207')\n",
      "Row(correo='cantonmateo@example.com', codigo_postal='04691', direccion='Cañada de Maximiano Gimenez 49\\nLugo, 41960', empresa='Cabrera y Ferrán S.Coop.', fecha_nacimiento=Date(-4837), fecha_vencimiento='11/32', nombre='Ileana Estrella Sanmiguel Mendoza', numero_tarjeta='568459799454', telefono='+34 876405142')\n",
      "Row(correo='salvadorisidro@example.net', codigo_postal='22097', direccion='Calle Juan Bautista Palau 99\\nCuenca, 46971', empresa='Benitez y asociados S.Coop.', fecha_nacimiento=Date(-11563), fecha_vencimiento='06/29', nombre='Roldán Juliá-Salmerón', numero_tarjeta='5293150424712493', telefono='+34 985 182 483')\n",
      "Row(correo='romanloreto@example.org', codigo_postal='07843', direccion='Pasaje de Nando Cabello 91 Apt. 82 \\nMadrid, 04553', empresa='Gastón Ariza Bejarano S.A.', fecha_nacimiento=Date(-10892), fecha_vencimiento='09/28', nombre='Coral de Planas', numero_tarjeta='6527357317083918', telefono='+34 820 564 697')\n",
      "Row(correo='zcarrillo@example.net', codigo_postal='46514', direccion='Via de Tatiana Manrique 8\\nLas Palmas, 25051', empresa='Instalaciones Castells S.A.', fecha_nacimiento=Date(165), fecha_vencimiento='04/31', nombre='José Ángel de Clavero', numero_tarjeta='578440917206', telefono='+34838625312')\n",
      "Row(correo='severianosantamaria@example.org', codigo_postal='26990', direccion='Urbanización Flavio Uría 53\\nBarcelona, 18558', empresa='Riera y asociados S.Coop.', fecha_nacimiento=Date(12896), fecha_vencimiento='11/33', nombre='Dan Castells Cisneros', numero_tarjeta='30295136522018', telefono='+34 800182336')\n",
      "Row(correo='mercedes02@example.org', codigo_postal='12866', direccion='Plaza Joaquina Mercader 866 Apt. 86 \\nCuenca, 10760', empresa='Consultoría KDW S.Coop.', fecha_nacimiento=Date(-12594), fecha_vencimiento='07/27', nombre='Glauco Cuéllar Abascal', numero_tarjeta='6573237751678493', telefono='+34914365729')\n",
      "Row(correo='correaeligia@example.com', codigo_postal='38993', direccion='Via Carlito Avilés 76\\nCiudad, 32782', empresa='Industrias Girona S.L.', fecha_nacimiento=Date(-12800), fecha_vencimiento='05/25', nombre='Hilario Girón-Franco', numero_tarjeta='4249672643490', telefono='+34 947 92 68 49')\n",
      "Row(correo='rbatlle@example.com', codigo_postal='46093', direccion='Callejón de Loreto Nebot 73\\nBaleares, 17457', empresa='Supermercados FYCK S.A.', fecha_nacimiento=Date(-11270), fecha_vencimiento='08/33', nombre='Che del Frutos', numero_tarjeta='3503014404818095', telefono='+34942165795')\n"
     ]
    }
   ],
   "source": [
    "rows = session.execute(\"SELECT * FROM contactos LIMIT 10\")\n",
    "for row in rows:\n",
    "    print(row)"
   ]
  },
  {
   "cell_type": "markdown",
   "metadata": {},
   "source": [
    "Consultas de ejemplo"
   ]
  },
  {
   "cell_type": "code",
   "execution_count": null,
   "metadata": {},
   "outputs": [
    {
     "name": "stdout",
     "output_type": "stream",
     "text": [
      "\n",
      "Ejecutando consulta: SELECT COUNT(*) FROM contactos;\n",
      "Primeros resultados: [Row(count=10041)]\n",
      "Tiempo de ejecución: 0.3372969627380371 segundos\n",
      "\n",
      "\n",
      "Ejecutando consulta: SELECT * FROM contactos LIMIT 10;\n",
      "Primeros resultados: [Row(correo='mgonzalez@example.com', codigo_postal='33787', direccion='C. Julieta Fonseca 66\\nToledo, 30688', empresa='Promociones Internacionales S.L.U.', fecha_nacimiento=Date(-12424), fecha_vencimiento='05/26', nombre='Joaquín de Sáez', numero_tarjeta='502080583664', telefono='+34887 094 173'), Row(correo='ibatlle@example.com', codigo_postal='09203', direccion='Paseo de Carmelo Pablo 29\\nCáceres, 06274', empresa='Compañía Canet & Asociados S.L.', fecha_nacimiento=Date(7563), fecha_vencimiento='07/30', nombre='Macario Martínez Folch', numero_tarjeta='4384066201407990869', telefono='+34874 833 207'), Row(correo='cantonmateo@example.com', codigo_postal='04691', direccion='Cañada de Maximiano Gimenez 49\\nLugo, 41960', empresa='Cabrera y Ferrán S.Coop.', fecha_nacimiento=Date(-4837), fecha_vencimiento='11/32', nombre='Ileana Estrella Sanmiguel Mendoza', numero_tarjeta='568459799454', telefono='+34 876405142'), Row(correo='salvadorisidro@example.net', codigo_postal='22097', direccion='Calle Juan Bautista Palau 99\\nCuenca, 46971', empresa='Benitez y asociados S.Coop.', fecha_nacimiento=Date(-11563), fecha_vencimiento='06/29', nombre='Roldán Juliá-Salmerón', numero_tarjeta='5293150424712493', telefono='+34 985 182 483'), Row(correo='romanloreto@example.org', codigo_postal='07843', direccion='Pasaje de Nando Cabello 91 Apt. 82 \\nMadrid, 04553', empresa='Gastón Ariza Bejarano S.A.', fecha_nacimiento=Date(-10892), fecha_vencimiento='09/28', nombre='Coral de Planas', numero_tarjeta='6527357317083918', telefono='+34 820 564 697')]\n",
      "Tiempo de ejecución: 0.0023756027221679688 segundos\n",
      "\n",
      "\n",
      "Ejecutando consulta: SELECT * FROM contactos WHERE correo = 'example.org';\n",
      "Primeros resultados: []\n",
      "Tiempo de ejecución: 0.0016405582427978516 segundos\n",
      "\n"
     ]
    }
   ],
   "source": [
    "\n",
    "# Definir las consultas CQL\n",
    "queries = [\n",
    "    \"SELECT COUNT(*) FROM contactos;\",  # Conteo de registros\n",
    "    \"SELECT * FROM contactos LIMIT 10;\",  # Obtener los primeros 10 registros\n",
    "    \"SELECT * FROM contactos\"  # Filtrado por correo\n",
    "]\n",
    "\n",
    "# Medir el tiempo de ejecución de cada consulta\n",
    "for query in queries:\n",
    "    print(f\"\\nEjecutando consulta: {query}\")\n",
    "\n",
    "    # Iniciar temporizador\n",
    "    start_time = time.time()\n",
    "\n",
    "    # Ejecutar consulta\n",
    "    result = session.execute(query)\n",
    "    result_list = list(result)\n",
    "    # Detener temporizador\n",
    "    end_time = time.time()\n",
    "\n",
    "    # Mostrar algunos resultados y tiempo de ejecución\n",
    "    print(f\"Primeros resultados: {result_list[:5]}\")  # Mostrar los primeros 5 resultados\n",
    "    print(f\"Tiempo de ejecución: {end_time - start_time} segundos\\n\")\n"
   ]
  },
  {
   "cell_type": "code",
   "execution_count": null,
   "metadata": {},
   "outputs": [
    {
     "name": "stdout",
     "output_type": "stream",
     "text": [
      "Consulta ejecutada en: 0.005944728851318359 segundos\n"
     ]
    },
    {
     "data": {
      "text/html": [
       "<div>\n",
       "<style scoped>\n",
       "    .dataframe tbody tr th:only-of-type {\n",
       "        vertical-align: middle;\n",
       "    }\n",
       "\n",
       "    .dataframe tbody tr th {\n",
       "        vertical-align: top;\n",
       "    }\n",
       "\n",
       "    .dataframe thead th {\n",
       "        text-align: right;\n",
       "    }\n",
       "</style>\n",
       "<table border=\"1\" class=\"dataframe\">\n",
       "  <thead>\n",
       "    <tr style=\"text-align: right;\">\n",
       "      <th></th>\n",
       "      <th>correo</th>\n",
       "      <th>codigo_postal</th>\n",
       "      <th>direccion</th>\n",
       "      <th>empresa</th>\n",
       "      <th>fecha_nacimiento</th>\n",
       "      <th>fecha_vencimiento</th>\n",
       "      <th>nombre</th>\n",
       "      <th>numero_tarjeta</th>\n",
       "      <th>telefono</th>\n",
       "    </tr>\n",
       "  </thead>\n",
       "  <tbody>\n",
       "    <tr>\n",
       "      <th>0</th>\n",
       "      <td>mgonzalez@example.com</td>\n",
       "      <td>33787</td>\n",
       "      <td>C. Julieta Fonseca 66\\nToledo, 30688</td>\n",
       "      <td>Promociones Internacionales S.L.U.</td>\n",
       "      <td>1935-12-27</td>\n",
       "      <td>05/26</td>\n",
       "      <td>Joaquín de Sáez</td>\n",
       "      <td>502080583664</td>\n",
       "      <td>+34887 094 173</td>\n",
       "    </tr>\n",
       "    <tr>\n",
       "      <th>1</th>\n",
       "      <td>ibatlle@example.com</td>\n",
       "      <td>09203</td>\n",
       "      <td>Paseo de Carmelo Pablo 29\\nCáceres, 06274</td>\n",
       "      <td>Compañía Canet &amp; Asociados S.L.</td>\n",
       "      <td>1990-09-16</td>\n",
       "      <td>07/30</td>\n",
       "      <td>Macario Martínez Folch</td>\n",
       "      <td>4384066201407990869</td>\n",
       "      <td>+34874 833 207</td>\n",
       "    </tr>\n",
       "    <tr>\n",
       "      <th>2</th>\n",
       "      <td>cantonmateo@example.com</td>\n",
       "      <td>04691</td>\n",
       "      <td>Cañada de Maximiano Gimenez 49\\nLugo, 41960</td>\n",
       "      <td>Cabrera y Ferrán S.Coop.</td>\n",
       "      <td>1956-10-04</td>\n",
       "      <td>11/32</td>\n",
       "      <td>Ileana Estrella Sanmiguel Mendoza</td>\n",
       "      <td>568459799454</td>\n",
       "      <td>+34 876405142</td>\n",
       "    </tr>\n",
       "    <tr>\n",
       "      <th>3</th>\n",
       "      <td>salvadorisidro@example.net</td>\n",
       "      <td>22097</td>\n",
       "      <td>Calle Juan Bautista Palau 99\\nCuenca, 46971</td>\n",
       "      <td>Benitez y asociados S.Coop.</td>\n",
       "      <td>1938-05-06</td>\n",
       "      <td>06/29</td>\n",
       "      <td>Roldán Juliá-Salmerón</td>\n",
       "      <td>5293150424712493</td>\n",
       "      <td>+34 985 182 483</td>\n",
       "    </tr>\n",
       "    <tr>\n",
       "      <th>4</th>\n",
       "      <td>romanloreto@example.org</td>\n",
       "      <td>07843</td>\n",
       "      <td>Pasaje de Nando Cabello 91 Apt. 82 \\nMadrid, 0...</td>\n",
       "      <td>Gastón Ariza Bejarano S.A.</td>\n",
       "      <td>1940-03-07</td>\n",
       "      <td>09/28</td>\n",
       "      <td>Coral de Planas</td>\n",
       "      <td>6527357317083918</td>\n",
       "      <td>+34 820 564 697</td>\n",
       "    </tr>\n",
       "  </tbody>\n",
       "</table>\n",
       "</div>"
      ],
      "text/plain": [
       "                       correo codigo_postal  \\\n",
       "0       mgonzalez@example.com         33787   \n",
       "1         ibatlle@example.com         09203   \n",
       "2     cantonmateo@example.com         04691   \n",
       "3  salvadorisidro@example.net         22097   \n",
       "4     romanloreto@example.org         07843   \n",
       "\n",
       "                                           direccion  \\\n",
       "0               C. Julieta Fonseca 66\\nToledo, 30688   \n",
       "1          Paseo de Carmelo Pablo 29\\nCáceres, 06274   \n",
       "2        Cañada de Maximiano Gimenez 49\\nLugo, 41960   \n",
       "3        Calle Juan Bautista Palau 99\\nCuenca, 46971   \n",
       "4  Pasaje de Nando Cabello 91 Apt. 82 \\nMadrid, 0...   \n",
       "\n",
       "                              empresa fecha_nacimiento fecha_vencimiento  \\\n",
       "0  Promociones Internacionales S.L.U.       1935-12-27             05/26   \n",
       "1     Compañía Canet & Asociados S.L.       1990-09-16             07/30   \n",
       "2            Cabrera y Ferrán S.Coop.       1956-10-04             11/32   \n",
       "3         Benitez y asociados S.Coop.       1938-05-06             06/29   \n",
       "4          Gastón Ariza Bejarano S.A.       1940-03-07             09/28   \n",
       "\n",
       "                              nombre       numero_tarjeta         telefono  \n",
       "0                    Joaquín de Sáez         502080583664   +34887 094 173  \n",
       "1             Macario Martínez Folch  4384066201407990869   +34874 833 207  \n",
       "2  Ileana Estrella Sanmiguel Mendoza         568459799454    +34 876405142  \n",
       "3              Roldán Juliá-Salmerón     5293150424712493  +34 985 182 483  \n",
       "4                    Coral de Planas     6527357317083918  +34 820 564 697  "
      ]
     },
     "execution_count": 23,
     "metadata": {},
     "output_type": "execute_result"
    }
   ],
   "source": [
    "# Usar pandas para trabajar con los resultados de una consulta compleja\n",
    "query = \"SELECT * FROM contactos LIMIT 10;\"\n",
    "start_time = time.time()\n",
    "\n",
    "# Ejecutar la consulta\n",
    "result = session.execute(query)\n",
    "data = list(result)\n",
    "\n",
    "# Convertir los resultados a un DataFrame de Pandas\n",
    "df = pd.DataFrame(data)\n",
    "\n",
    "# Finalizar temporizador\n",
    "end_time = time.time()\n",
    "print(f\"Consulta ejecutada en: {end_time - start_time} segundos\")\n",
    "\n",
    "# Mostrar el DataFrame con los primeros 5 registros\n",
    "df.head()\n"
   ]
  },
  {
   "cell_type": "code",
   "execution_count": null,
   "metadata": {},
   "outputs": [],
   "source": [
    "# Cerrar la conexión al finalizar\n",
    "cluster.shutdown()"
   ]
  }
 ],
 "metadata": {
  "kernelspec": {
   "display_name": "cassandrasql",
   "language": "python",
   "name": "python3"
  },
  "language_info": {
   "codemirror_mode": {
    "name": "ipython",
    "version": 3
   },
   "file_extension": ".py",
   "mimetype": "text/x-python",
   "name": "python",
   "nbconvert_exporter": "python",
   "pygments_lexer": "ipython3",
   "version": "3.12.7"
  }
 },
 "nbformat": 4,
 "nbformat_minor": 2
}
